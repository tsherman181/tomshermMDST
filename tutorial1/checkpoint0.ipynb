{
 "cells": [
  {
   "cell_type": "markdown",
   "metadata": {
    "colab_type": "text",
    "id": "0a8IYAJUshu1"
   },
   "source": [
    "# Exercises (Optional)"
   ]
  },
  {
   "cell_type": "markdown",
   "metadata": {},
   "source": [
    "These exercises are not required to complete however are good to do for practice. (Not to be submitted on git)\n",
    "\n",
    "These exercises are a mix of Python and pandas/EDA practice. Most should be no more than a few lines of code! "
   ]
  },
  {
   "cell_type": "code",
   "execution_count": 37,
   "metadata": {
    "colab": {},
    "colab_type": "code",
    "id": "Jo6wuTgkshu1"
   },
   "outputs": [
    {
     "name": "stdout",
     "output_type": "stream",
     "text": [
      "[4, 5, 6]\n",
      "[6, 5, 4, 3, 2, 1]\n",
      "[1, 4, 9, 16, 25, 36]\n"
     ]
    }
   ],
   "source": [
    "# here is a Python list:\n",
    "\n",
    "a = [1, 2, 3, 4, 5, 6]\n",
    "\n",
    "# get a list containing the last 3 elements of a\n",
    "\n",
    "b=a[3:]\n",
    "print(b)\n",
    "\n",
    "# reverse the list\n",
    "rev=a[::-1]\n",
    "print(rev)\n",
    "\n",
    "# get a list where each entry in a is squared (so the new list is [1, 4, 9, 16, 25, 36])\n",
    "j=[]\n",
    "for x in a:\n",
    "    x=x*x\n",
    "    j.append(x)\n",
    "print(j)"
   ]
  },
  {
   "cell_type": "code",
   "execution_count": 38,
   "metadata": {
    "colab": {},
    "colab_type": "code",
    "id": "qANtg5kQshu2"
   },
   "outputs": [],
   "source": [
    "# create a numpy array from this list\n",
    "b = [0,45,34,2,1,-59] # change this\n",
    "import numpy as np;\n",
    "b=np.array(b)"
   ]
  },
  {
   "cell_type": "code",
   "execution_count": 39,
   "metadata": {
    "colab": {},
    "colab_type": "code",
    "id": "91CXRflLshu4"
   },
   "outputs": [
    {
     "data": {
      "text/plain": [
       "3.8333333333333335"
      ]
     },
     "execution_count": 39,
     "metadata": {},
     "output_type": "execute_result"
    }
   ],
   "source": [
    "# find the mean of b\n",
    "np.mean(b)"
   ]
  },
  {
   "cell_type": "code",
   "execution_count": 40,
   "metadata": {
    "colab": {},
    "colab_type": "code",
    "id": "ZJZFwzQfshu9"
   },
   "outputs": [
    {
     "name": "stdout",
     "output_type": "stream",
     "text": [
      "[   0 2025 1156    4    1 3481]\n"
     ]
    }
   ],
   "source": [
    "# get a list where each entry in b is squared (so the new numpy array is [1, 4, 9, 16, 25, 36])\n",
    "# use a different (numpy-specific) approach\n",
    "\n",
    "b=b**2\n",
    "print(b)\n"
   ]
  },
  {
   "cell_type": "code",
   "execution_count": 55,
   "metadata": {
    "colab": {},
    "colab_type": "code",
    "id": "ajbA5rCCshu5"
   },
   "outputs": [
    {
     "name": "stdout",
     "output_type": "stream",
     "text": [
      "[[   0 2025 1156]\n",
      " [   4    1 3481]]\n"
     ]
    }
   ],
   "source": [
    "# change b from a length-6 list to a 2x3 matrix\n",
    "j=b.reshape(2,3)\n",
    "print(j)"
   ]
  },
  {
   "cell_type": "code",
   "execution_count": 57,
   "metadata": {
    "colab": {},
    "colab_type": "code",
    "id": "wancU_PWshu6"
   },
   "outputs": [
    {
     "name": "stdout",
     "output_type": "stream",
     "text": [
      "1060.3333333333333\n",
      "1162.0\n"
     ]
    }
   ],
   "source": [
    "# find the mean value of each row\n",
    "print(j[0].mean())\n",
    "print(j[1].mean())"
   ]
  },
  {
   "cell_type": "code",
   "execution_count": 163,
   "metadata": {
    "colab": {},
    "colab_type": "code",
    "id": "N3hXBrBtshu7"
   },
   "outputs": [
    {
     "data": {
      "text/plain": [
       "array([2.0000e+00, 1.0130e+03, 2.3185e+03])"
      ]
     },
     "execution_count": 163,
     "metadata": {},
     "output_type": "execute_result"
    }
   ],
   "source": [
    "# find the mean value of each column\n",
    "\n",
    "np.mean(j, axis=0)"
   ]
  },
  {
   "cell_type": "code",
   "execution_count": 164,
   "metadata": {
    "colab": {},
    "colab_type": "code",
    "id": "GvbO8gBXshu8"
   },
   "outputs": [
    {
     "ename": "IndexError",
     "evalue": "index 2 is out of bounds for axis 0 with size 2",
     "output_type": "error",
     "traceback": [
      "\u001b[0;31m---------------------------------------------------------------------------\u001b[0m",
      "\u001b[0;31mIndexError\u001b[0m                                Traceback (most recent call last)",
      "\u001b[0;32m<ipython-input-164-cd571e0a3858>\u001b[0m in \u001b[0;36m<module>\u001b[0;34m\u001b[0m\n\u001b[1;32m      1\u001b[0m \u001b[0;31m# find the third column of b\u001b[0m\u001b[0;34m\u001b[0m\u001b[0;34m\u001b[0m\u001b[0;34m\u001b[0m\u001b[0m\n\u001b[0;32m----> 2\u001b[0;31m \u001b[0mprint\u001b[0m\u001b[0;34m(\u001b[0m\u001b[0mj\u001b[0m\u001b[0;34m[\u001b[0m\u001b[0;34m:\u001b[0m\u001b[0;34m]\u001b[0m\u001b[0;34m[\u001b[0m\u001b[0;36m2\u001b[0m\u001b[0;34m]\u001b[0m\u001b[0;34m)\u001b[0m\u001b[0;34m\u001b[0m\u001b[0;34m\u001b[0m\u001b[0m\n\u001b[0m\u001b[1;32m      3\u001b[0m \u001b[0;34m\u001b[0m\u001b[0m\n\u001b[1;32m      4\u001b[0m \u001b[0;31m##?????\u001b[0m\u001b[0;34m\u001b[0m\u001b[0;34m\u001b[0m\u001b[0;34m\u001b[0m\u001b[0m\n",
      "\u001b[0;31mIndexError\u001b[0m: index 2 is out of bounds for axis 0 with size 2"
     ]
    }
   ],
   "source": [
    "# find the third column of b\n",
    "print(j[:][2])\n",
    "\n",
    "##????? Google this!"
   ]
  },
  {
   "cell_type": "code",
   "execution_count": 162,
   "metadata": {
    "colab": {},
    "colab_type": "code",
    "id": "WzCQ5HOJshvA"
   },
   "outputs": [
    {
     "name": "stdout",
     "output_type": "stream",
     "text": [
      "9\n"
     ]
    },
    {
     "data": {
      "text/plain": [
       "beverage_category\n",
       "coffee                                                   brewed coffee\n",
       "coffee                                                   brewed coffee\n",
       "coffee                                                   brewed coffee\n",
       "coffee                                                   brewed coffee\n",
       "classic espresso drinks                                     caff latte\n",
       "                                               ...                    \n",
       "frappuccino blended crme    strawberries  crme (without whipped cream)\n",
       "frappuccino blended crme          vanilla bean (without whipped cream)\n",
       "frappuccino blended crme          vanilla bean (without whipped cream)\n",
       "frappuccino blended crme          vanilla bean (without whipped cream)\n",
       "frappuccino blended crme          vanilla bean (without whipped cream)\n",
       "Name: beverage, Length: 242, dtype: object"
      ]
     },
     "execution_count": 162,
     "metadata": {},
     "output_type": "execute_result"
    }
   ],
   "source": [
    "# load in the \"starbucks.csv\" dataset\n",
    "import pandas as pd\n",
    "df =  pd.read_csv(\"../data/starbucks.csv\")\n",
    "df.to_numpy()\n",
    "df=df.set_index('beverage_category')\n",
    "##df.columns = [1,2,3,4,5,6,7,8,9,10,11,12,13,14,15,16,17,18]\n",
    "##print(df[1])\n",
    "print(df.index.unique().size)\n",
    "df.head()\n",
    "#df[\"beverage\"]"
   ]
  },
  {
   "cell_type": "code",
   "execution_count": 116,
   "metadata": {
    "colab": {},
    "colab_type": "code",
    "id": "rIoxaSxHshvB"
   },
   "outputs": [
    {
     "name": "stdout",
     "output_type": "stream",
     "text": [
      "193.87190082644628\n"
     ]
    }
   ],
   "source": [
    "# this is nutritional info for starbucks items\n",
    "# let's see if we can answer some questions\n",
    "\n",
    "# what is the average # calories across all items?\n",
    "print(df.calories.mean())\n"
   ]
  },
  {
   "cell_type": "code",
   "execution_count": 122,
   "metadata": {
    "colab": {},
    "colab_type": "code",
    "id": "ABX7i49FshvD"
   },
   "outputs": [
    {
     "data": {
      "text/plain": [
       "9"
      ]
     },
     "execution_count": 122,
     "metadata": {},
     "output_type": "execute_result"
    }
   ],
   "source": [
    "# how many different categories of beverages are there?\n",
    "df.index.unique().size"
   ]
  },
  {
   "cell_type": "code",
   "execution_count": 188,
   "metadata": {
    "colab": {},
    "colab_type": "code",
    "id": "P9QatZAzshvE"
   },
   "outputs": [
    {
     "name": "stdout",
     "output_type": "stream",
     "text": [
      "calories                 4.25\n",
      "total fat                0.10\n",
      "trans fat                0.00\n",
      "saturated fat            0.00\n",
      "sodium                   0.00\n",
      "total carbohydrates      8.75\n",
      "cholesterol              0.00\n",
      "dietary fibre            0.00\n",
      "sugars                   0.00\n",
      "protein                  0.70\n",
      "vitamin a                0.00\n",
      "vitamin c                0.00\n",
      "calcium                  0.50\n",
      "iron                     0.00\n",
      "caffeine               293.75\n",
      "dtype: float64\n",
      "calories               140.172414\n",
      "total fat                3.127586\n",
      "trans fat                1.210345\n",
      "saturated fat            0.046552\n",
      "sodium                   8.103448\n",
      "total carbohydrates    104.672414\n",
      "cholesterol             20.327586\n",
      "dietary fibre            0.620690\n",
      "sugars                  16.965517\n",
      "protein                  8.686207\n",
      "vitamin a               12.724138\n",
      "vitamin c                0.206897\n",
      "calcium                 27.344828\n",
      "iron                     8.103448\n",
      "caffeine               122.068966\n",
      "dtype: float64\n",
      "calories               250.0000\n",
      "total fat                5.2750\n",
      "trans fat                2.7125\n",
      "saturated fat            0.0500\n",
      "sodium                   9.6250\n",
      "total carbohydrates    138.2500\n",
      "cholesterol             42.7750\n",
      "dietary fibre            0.7750\n",
      "sugars                  38.6000\n",
      "protein                  9.8750\n",
      "vitamin a               13.1500\n",
      "vitamin c                0.7500\n",
      "calcium                 31.3750\n",
      "iron                    10.5500\n",
      "caffeine                73.8750\n",
      "dtype: float64\n",
      "calories               177.307692\n",
      "total fat                2.540385\n",
      "trans fat                0.859615\n",
      "saturated fat            0.044231\n",
      "sodium                   7.211538\n",
      "total carbohydrates     89.903846\n",
      "cholesterol             31.692308\n",
      "dietary fibre            0.519231\n",
      "sugars                  30.307692\n",
      "protein                  6.807692\n",
      "vitamin a               10.557692\n",
      "vitamin c                2.903846\n",
      "calcium                 23.653846\n",
      "iron                     4.673077\n",
      "caffeine                62.448630\n",
      "dtype: float64\n",
      "calories               114.444444\n",
      "total fat                0.472222\n",
      "trans fat                0.138889\n",
      "saturated fat            0.005556\n",
      "sodium                   1.111111\n",
      "total carbohydrates     18.277778\n",
      "cholesterol             26.166667\n",
      "dietary fibre            0.000000\n",
      "sugars                  26.000000\n",
      "protein                  1.344444\n",
      "vitamin a                1.777778\n",
      "vitamin c                2.500000\n",
      "calcium                  4.000000\n",
      "iron                     0.666667\n",
      "caffeine               122.895738\n",
      "dtype: float64\n",
      "calories               282.222222\n",
      "total fat                2.333333\n",
      "trans fat                0.933333\n",
      "saturated fat            0.011111\n",
      "sodium                   6.111111\n",
      "total carbohydrates    132.777778\n",
      "cholesterol             54.555556\n",
      "dietary fibre            6.777778\n",
      "sugars                  36.777778\n",
      "protein                 17.111111\n",
      "vitamin a               20.444444\n",
      "vitamin c               65.000000\n",
      "calcium                 13.333333\n",
      "iron                    11.777778\n",
      "caffeine                14.946728\n",
      "dtype: float64\n",
      "calories               276.944444\n",
      "total fat                3.002778\n",
      "trans fat                1.700000\n",
      "saturated fat            0.038889\n",
      "sodium                   4.444444\n",
      "total carbohydrates    230.277778\n",
      "cholesterol             59.638889\n",
      "dietary fibre            0.777778\n",
      "sugars                  57.083333\n",
      "protein                  4.222222\n",
      "vitamin a                5.500000\n",
      "vitamin c                0.000000\n",
      "calcium                 12.277778\n",
      "iron                    10.861111\n",
      "caffeine               101.805556\n",
      "dtype: float64\n",
      "calories               162.500000\n",
      "total fat                1.258333\n",
      "trans fat                0.900000\n",
      "saturated fat            0.000000\n",
      "sodium                   1.666667\n",
      "total carbohydrates    217.500000\n",
      "cholesterol             34.500000\n",
      "dietary fibre            0.666667\n",
      "sugars                  32.416667\n",
      "protein                  4.250000\n",
      "vitamin a                6.000000\n",
      "vitamin c                0.000000\n",
      "calcium                 11.333333\n",
      "iron                     9.000000\n",
      "caffeine                99.583333\n",
      "dtype: float64\n",
      "calories               233.076923\n",
      "total fat                1.953846\n",
      "trans fat                0.769231\n",
      "saturated fat            0.038462\n",
      "sodium                   4.230769\n",
      "total carbohydrates    188.846154\n",
      "cholesterol             49.923077\n",
      "dietary fibre            0.307692\n",
      "sugars                  48.461538\n",
      "protein                  4.000000\n",
      "vitamin a                6.153846\n",
      "vitamin c                4.615385\n",
      "calcium                 13.846154\n",
      "iron                     3.846154\n",
      "caffeine                 0.000000\n",
      "dtype: float64\n"
     ]
    }
   ],
   "source": [
    "# what is the average # calories for each beverage category?\n",
    "\n",
    "indices = df.index.unique()\n",
    "#print(df.loc[\"coffee\"])\n",
    "for i in indices:\n",
    "    newDf=df.loc[i]\n",
    "    print(newDf.mean())"
   ]
  },
  {
   "cell_type": "code",
   "execution_count": null,
   "metadata": {
    "colab": {},
    "colab_type": "code",
    "id": "y8KEpYNkshvG"
   },
   "outputs": [],
   "source": [
    "# what beverage preparation includes the most sugar on average?\n"
   ]
  },
  {
   "cell_type": "code",
   "execution_count": null,
   "metadata": {
    "colab": {},
    "colab_type": "code",
    "id": "MnbCEJw8shvH"
   },
   "outputs": [],
   "source": [
    "# what is the average % daily value calcium content for each beverage?\n"
   ]
  },
  {
   "cell_type": "code",
   "execution_count": null,
   "metadata": {
    "colab": {},
    "colab_type": "code",
    "id": "Nv5dksj_shvJ"
   },
   "outputs": [],
   "source": [
    "# It's bulking season. What drink should Naitian get so that he maximizes protein but minimizes calories?\n",
    "# (you can use more than one line for this one)\n",
    "# there are multiple valid approaches you can take for this (with different answers)\n",
    "# I know that you want more calories for bulking season but whatever this is MDST, not Michigan Muscle Club okay\n"
   ]
  },
  {
   "cell_type": "code",
   "execution_count": null,
   "metadata": {},
   "outputs": [],
   "source": [
    "# plot the distribution of the number of calories in drinks using matplotlib\n"
   ]
  },
  {
   "cell_type": "code",
   "execution_count": null,
   "metadata": {},
   "outputs": [],
   "source": [
    "# plot the same distribution using seaborn. what about a density plot instead?\n"
   ]
  },
  {
   "cell_type": "code",
   "execution_count": null,
   "metadata": {},
   "outputs": [],
   "source": [
    "# plot calories against total fat using seaborn\n"
   ]
  },
  {
   "cell_type": "code",
   "execution_count": null,
   "metadata": {},
   "outputs": [],
   "source": [
    "# plot the distribution of calories in Short, Tall, Grande, and Venti drinks\n",
    "# (you can use multiple lines for this)\n",
    "# twist: you should also include the Nonfat Milk drinks that also have an associated size.\n",
    "\n",
    "# you can decide how you want to visualize this. Colors? Small multiples? Density vs histogram?\n",
    "# the starbucks is your oyster.\n"
   ]
  }
 ],
 "metadata": {
  "kernelspec": {
   "display_name": "Python 3",
   "language": "python",
   "name": "python3"
  },
  "language_info": {
   "codemirror_mode": {
    "name": "ipython",
    "version": 3
   },
   "file_extension": ".py",
   "mimetype": "text/x-python",
   "name": "python",
   "nbconvert_exporter": "python",
   "pygments_lexer": "ipython3",
   "version": "3.8.3"
  }
 },
 "nbformat": 4,
 "nbformat_minor": 5
}
